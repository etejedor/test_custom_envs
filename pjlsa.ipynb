{
 "cells": [
  {
   "cell_type": "code",
   "execution_count": 1,
   "id": "a75c1953-3216-4e20-8265-f767a9fce5f5",
   "metadata": {},
   "outputs": [],
   "source": [
    "import pjlsa"
   ]
  },
  {
   "cell_type": "code",
   "execution_count": 2,
   "id": "9bff1616-1e9c-4869-9df8-a184ada26320",
   "metadata": {},
   "outputs": [
    {
     "data": {
      "text/plain": [
       "'/home/etejedor/test_custom_envs_17_env/lib/python3.11/site-packages/pjlsa/__init__.py'"
      ]
     },
     "execution_count": 2,
     "metadata": {},
     "output_type": "execute_result"
    }
   ],
   "source": [
    "pjlsa.__file__"
   ]
  },
  {
   "cell_type": "code",
   "execution_count": null,
   "id": "83a9b779-8370-4638-9360-85c033ad0a18",
   "metadata": {},
   "outputs": [],
   "source": []
  }
 ],
 "metadata": {
  "kernelspec": {
   "display_name": "Python (test_custom_envs_17_env)",
   "language": "python",
   "name": "python3"
  },
  "language_info": {
   "codemirror_mode": {
    "name": "ipython",
    "version": 3
   },
   "file_extension": ".py",
   "mimetype": "text/x-python",
   "name": "python",
   "nbconvert_exporter": "python",
   "pygments_lexer": "ipython3",
   "version": "3.11.7"
  }
 },
 "nbformat": 4,
 "nbformat_minor": 5
}
